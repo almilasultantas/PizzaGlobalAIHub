{
  "nbformat": 4,
  "nbformat_minor": 0,
  "metadata": {
    "colab": {
      "provenance": []
    },
    "kernelspec": {
      "name": "python3",
      "display_name": "Python 3"
    },
    "language_info": {
      "name": "python"
    }
  },
  "cells": [
    {
      "cell_type": "code",
      "execution_count": null,
      "metadata": {
        "id": "7qyB6XFvHncd"
      },
      "outputs": [],
      "source": [
        "import csv\n",
        "import datetime"
      ]
    },
    {
      "cell_type": "code",
      "source": [
        "#Pizza sınıfı oluşturuldu\n",
        "class Pizza:\n",
        "    def __init__(self, description, cost):\n",
        "        self.__description = description\n",
        "        self.__cost = cost\n",
        "    \n",
        "    def get_description(self):\n",
        "        return self.__description\n",
        "    \n",
        "    def get_cost(self):\n",
        "        return self.__cost"
      ],
      "metadata": {
        "id": "tIsgzDjHJS5j"
      },
      "execution_count": null,
      "outputs": []
    },
    {
      "cell_type": "code",
      "source": [
        "#Pizzaların alt sınıfları oluşturuldu\n",
        "class Klasik(Pizza):\n",
        "    def __init__(self):\n",
        "        super().__init__(\"Klasik Pizza:  domates, peynir ve genellikle çeşitli diğer malzemelerle  yenen bir yemektir.\", 20)\n",
        "\n",
        "class Margarita(Pizza):\n",
        "    def __init__(self):\n",
        "        super().__init__(\"Margarita Pizza: domates, mozarella, fesleğen, zeytinyağı ve tuzla yapılan Napoli pizzasıdır.\", 25)\n",
        "\n",
        "class TurkPizza(Pizza):\n",
        "    def __init__(self):\n",
        "        super().__init__(\"Türk Pizza:  sucuk, pastırma, biber, ve mantar ile yapılan pizzadır.\", 30)\n",
        "\n",
        "class SadePizza(Pizza):\n",
        "    def __init__(self):\n",
        "        super().__init__(\"Sade Pizza: pizza hamuru, mozzarella peyniri ve domates ile yapılan pizzadır.\", 15)\n"
      ],
      "metadata": {
        "id": "Jn4VwgB0MWIV"
      },
      "execution_count": null,
      "outputs": []
    },
    {
      "cell_type": "code",
      "source": [
        "#decorator sınıfı oluşturuldu\n",
        "class Decorator():\n",
        "    def __init__(self, description, cost):\n",
        "        self.__description = description\n",
        "        self.__cost = cost\n",
        "\n",
        "    def get_description(self):\n",
        "        return self.__description\n",
        "    \n",
        "    def get_cost(self):\n",
        "        return self.__cost\n",
        "\n"
      ],
      "metadata": {
        "id": "vNg9GBvtTrXP"
      },
      "execution_count": null,
      "outputs": []
    },
    {
      "cell_type": "code",
      "source": [
        "#decorator sınıflarının alt sınıfları oluşturuldu\n",
        "class Zeytin(Decorator):\n",
        "    def __init__(self):\n",
        "        super().__init__(\"Zeytin\",3)\n",
        "\n",
        "\n",
        "class Mantar(Decorator):\n",
        "    def __init__(self):\n",
        "        super().__init__(\"Mantarlar\",2)\n",
        "      \n",
        "\n",
        "class KeciPeyniri(Decorator):\n",
        "    def __init__(self):\n",
        "        super().__init__(\"Keçi Peyniri\",5)\n",
        "        \n",
        "\n",
        "class Et(Decorator):\n",
        "    def __init__(self):\n",
        "        super().__init__(\"Et\",4)\n",
        "      \n",
        "\n",
        "class Sogan(Decorator):\n",
        "    def __init__(self):\n",
        "        super().__init__(\"Soğan\",1)\n",
        "       \n",
        "\n",
        "class Misir(Decorator):\n",
        "    def __init__(self):\n",
        "        super().__init__(\"Mısır\",2)\n",
        "      "
      ],
      "metadata": {
        "id": "nAQwsyfrU_CF"
      },
      "execution_count": null,
      "outputs": []
    },
    {
      "cell_type": "code",
      "source": [
        "#menü yazdırıldı\n",
        "def print_menu():\n",
        "    with open(\"Menu.txt\", \"r\") as file:\n",
        "        print(file.read())"
      ],
      "metadata": {
        "id": "ELr0VqJmYxQw"
      },
      "execution_count": null,
      "outputs": []
    },
    {
      "cell_type": "code",
      "source": [
        "#pizza seçim işlemi yapılması için\n",
        "def get_pizza_choice():\n",
        "    pizza = None\n",
        "    while pizza is None:\n",
        "        choice = input(\"Lütfen bir pizza tabanı seçiniz: \")\n",
        "        if choice == \"1\":\n",
        "            pizza = Klasik()\n",
        "        elif choice == \"2\":\n",
        "            pizza = Margarita()\n",
        "        elif choice == \"3\":\n",
        "            pizza = TurkPizza()\n",
        "        elif choice == \"4\":\n",
        "            pizza = SadePizza()\n",
        "        else:\n",
        "            print(\"Geçersiz seçim, lütfen tekrar deneyin.\")\n",
        "    return pizza\n"
      ],
      "metadata": {
        "id": "KXRvLORCY4Ey"
      },
      "execution_count": null,
      "outputs": []
    },
    {
      "cell_type": "code",
      "source": [
        "#ekstra seçim\n",
        "def get_sauce_choice():\n",
        "    sauce = None\n",
        "    while sauce is None:\n",
        "        choice = input(\"Lütfen bir sos seçiniz: \")\n",
        "        if choice == \"11\":\n",
        "            sauce = Zeytin()\n",
        "        elif choice == \"12\":\n",
        "            sauce = Mantar()\n",
        "        elif choice == \"13\":\n",
        "            sauce = KeciPeyniri()\n",
        "        elif choice == \"14\":\n",
        "            sauce = Et()\n",
        "        elif choice == \"15\":\n",
        "            sauce = Sogan()\n",
        "        elif choice == \"16\":\n",
        "            sauce = Misir()\n",
        "        else:\n",
        "            print(\"Geçersiz seçim, lütfen tekrar deneyin.\")\n",
        "    return sauce"
      ],
      "metadata": {
        "id": "D-VwscO6Y5HZ"
      },
      "execution_count": null,
      "outputs": []
    },
    {
      "cell_type": "code",
      "source": [
        "#order csv dosyası oluşturuldu\n",
        "with open('Orders_Database.csv', 'w') as creating_new_csv_file: \n",
        "   pass"
      ],
      "metadata": {
        "id": "tWGVBHujq23x"
      },
      "execution_count": null,
      "outputs": []
    },
    {
      "cell_type": "code",
      "source": [
        "#datetime kütüphanesi eklendi, main fonksiyonu içersinde yukarıda yazılan fonksiyonlar çağırıldı, isim kimlik numarasıvs alındı ve bunlar oluşturulmuş olan csv dosyasına kaydedildi\n",
        "from datetime import datetime\n",
        "\n",
        "def main():\n",
        "  print_menu()\n",
        "  pizza = get_pizza_choice()\n",
        "  sauce = get_sauce_choice()\n",
        "  cost = pizza.get_cost() + sauce.get_cost()\n",
        "  Name = input(\"Lütfen isminizi giriniz: \")\n",
        "  id = input(\"Lütfen Lütfen TC Kimlik numaranızı giriniz: \")\n",
        "  creditcardnumber = input(\"Lütfen kredi kartı numaranızı giriniz: \")\n",
        "  creditcardpassword = input(\"Lütfen şifrenizi giriniz: \")\n",
        "  now = datetime.now()\n",
        "  with open('Orders_Database.csv', mode='a') as new: \n",
        "    new_writer = csv.writer(new, delimiter=',', quotechar='\"', quoting=csv.QUOTE_MINIMAL)\n",
        "    new_writer.writerow([Name, id, creditcardnumber, creditcardpassword, pizza.get_description(), sauce.get_description(), cost,now])\n"
      ],
      "metadata": {
        "id": "DTTm5F4Qf9SB"
      },
      "execution_count": null,
      "outputs": []
    },
    {
      "cell_type": "code",
      "source": [
        "#main fonksiyonu çağrıldı\n",
        "main()"
      ],
      "metadata": {
        "id": "jTZUjjSXtrBY",
        "outputId": "51aab454-955f-4c14-a761-5584722d5feb",
        "colab": {
          "base_uri": "https://localhost:8080/"
        }
      },
      "execution_count": null,
      "outputs": [
        {
          "name": "stdout",
          "output_type": "stream",
          "text": [
            "* Lütfen Bir Pizza Tabanı Seçiniz:\n",
            "1: Klasik\n",
            "2: Margarita\n",
            "3: TürkPizza\n",
            "4: Sade Pizza\n",
            "* ve seçeceğiniz sos:\n",
            "11: Zeytin\n",
            "12: Mantarlar\n",
            "13: Keçi Peyniri\n",
            "14: Et\n",
            "15: Soğan\n",
            "16: Mısır\n",
            "* Teşekkür ederiz!\n",
            "\n",
            "Lütfen bir pizza tabanı seçiniz: 1\n",
            "Lütfen bir sos seçiniz: 16\n",
            "Lütfen isminizi giriniz: AST\n",
            "Lütfen Lütfen TC Kimlik numaranızı giriniz: 15\n",
            "Lütfen kredi kartı numaranızı giriniz: 16\n",
            "Lütfen şifrenizi giriniz: 6546\n"
          ]
        }
      ]
    }
  ]
}